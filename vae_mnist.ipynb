{
  "nbformat": 4,
  "nbformat_minor": 0,
  "metadata": {
    "colab": {
      "provenance": [],
      "gpuType": "T4",
      "authorship_tag": "ABX9TyNJWmaIEkdVtOIOfCY1rgTW",
      "include_colab_link": true
    },
    "kernelspec": {
      "name": "python3",
      "display_name": "Python 3"
    },
    "language_info": {
      "name": "python"
    },
    "accelerator": "GPU"
  },
  "cells": [
    {
      "cell_type": "markdown",
      "metadata": {
        "id": "view-in-github",
        "colab_type": "text"
      },
      "source": [
        "<a href=\"https://colab.research.google.com/github/dangtbthi/variational-autoencoder-mnist/blob/main/vae_mnist.ipynb\" target=\"_parent\"><img src=\"https://colab.research.google.com/assets/colab-badge.svg\" alt=\"Open In Colab\"/></a>"
      ]
    },
    {
      "cell_type": "code",
      "execution_count": null,
      "metadata": {
        "id": "WFpucJRRiChM"
      },
      "outputs": [],
      "source": [
        "import torch\n",
        "import torchvision\n",
        "import torch.nn as nn\n",
        "import torch.nn.functional as F\n",
        "import torch.nn.init as init\n",
        "import torch.optim as optim\n",
        "import numpy as np\n",
        "import matplotlib.pyplot as plt\n",
        "\n",
        "from torchvision import datasets, transforms, utils\n",
        "from torch.utils.data import Dataset, DataLoader, random_split\n",
        "from tqdm import tqdm\n",
        "\n",
        "%pip install torchinfo -q\n",
        "from torchinfo import summary"
      ]
    },
    {
      "cell_type": "markdown",
      "source": [
        "# Dataset"
      ],
      "metadata": {
        "id": "Oi11775Uw-DO"
      }
    },
    {
      "cell_type": "code",
      "source": [
        "transform = transforms.Compose([\n",
        "    transforms.ToTensor(),\n",
        "    transforms.Normalize((0.5,), (0.5,))\n",
        "])\n",
        "\n",
        "train_dataset = datasets.MNIST(root='./data', train=True, download=True, transform=transform)"
      ],
      "metadata": {
        "id": "DzYzYvE5w9uu"
      },
      "execution_count": null,
      "outputs": []
    },
    {
      "cell_type": "markdown",
      "source": [
        "# VAE Model"
      ],
      "metadata": {
        "id": "UEWTbbCkjhp3"
      }
    },
    {
      "cell_type": "markdown",
      "source": [
        "Given a large dataset of identically distributed independent samples of a random variable $\\mathbf{x}$. We assume that our data has an underlying latent distribution, which means the process of generating the data is dependent on a latent variable $\\mathbf{z}$ that comes from a simple prior distribution.Standard Gaussian distribution is a common choice for the prior:\n",
        "\n",
        "$$\n",
        "\\mathbf{z} \\sim \\mathcal{N}(0, I)\\\\\n",
        "\\mathbf{x}|\\mathbf{z} \\sim \\mathcal{N}(μ_θ(\\mathbf{z}),𝚺_θ(\\mathbf{z}))\n",
        "$$\n",
        "where $μ_θ$ and $𝚺_θ$ are neural networks parameterized by $θ$.\n",
        "\n",
        "Our goal is to generate new samples from $\\mathbf{x}$, including sample $\\mathbf{z}$ and feed $\\mathbf{z}$ through the two neural networks, then sample $\\mathbf{x}$ from $p(\\mathbf{x}|\\mathbf{z};θ)$.\\\n",
        "We train out model via maximum likelihood estimation (MLE):\n",
        "$$\n",
        "\\hat{\\theta}_{\\mathrm{MLE}} = \\arg\\max_\\theta \\, \\log p(\\mathbf{x};θ) = \\arg\\max_\\theta \\, \\log \\prod_x p(x;θ)= \\sum_x \\log p(x;θ)\n",
        "$$\n",
        "where\n",
        "$$\n",
        "\\log p(\\mathbf{x};θ) = \\log \\prod_x p(x;θ) = \\sum_x \\log p(x;θ) = \\sum_x \\log \\sum_z p(\\mathbf{x},\\mathbf{z};θ)\n",
        "$$\n",
        "The problems arise when $p(\\mathbf{x},\\mathbf{z};θ)$ is intractable. Thus, we compute the marginal likelihood $ p(\\mathbf{x};θ)$ via importance sampling and variational inference."
      ],
      "metadata": {
        "id": "Zx7DGD49xmur"
      }
    },
    {
      "cell_type": "markdown",
      "source": [
        "**Importance Sampling**\n",
        "\n",
        "$$\n",
        "p_\\theta(\\mathbf{x}) = \\sum_{\\mathbf{z}} p_\\theta(\\mathbf{x}, \\mathbf{z}) = \\sum_{\\mathbf{z}} \\frac{q(\\mathbf{z})}{q(\\mathbf{z})} p_\\theta(\\mathbf{x}, \\mathbf{z}) = \\mathbb{E}_{\\mathbf{z} \\sim q(\\mathbf{z})} \\left[ \\frac{p_\\theta(\\mathbf{x}, \\mathbf{z})}{q(\\mathbf{z})} \\right]\n",
        "$$\n",
        "where $q(\\mathbf{z})$ is the proposal distribution.\\\n",
        "Therefore:\n",
        "$$\n",
        "\\log p_\\theta(\\mathbf{x}) = \\log \\sum_{\\mathbf{z}} \\frac{q(\\mathbf{z})}{q(\\mathbf{z})} p_\\theta(\\mathbf{x}, \\mathbf{z}) = \\log \\mathbb{E}_{\\mathbf{z} \\sim q(\\mathbf{z})} \\left[ \\frac{p_\\theta(\\mathbf{x}, \\mathbf{z})}{q(\\mathbf{z})} \\right]\n",
        "$$\n",
        "\n"
      ],
      "metadata": {
        "id": "VmFDDbQW6Gn8"
      }
    },
    {
      "cell_type": "markdown",
      "source": [
        "**Variational Inference**\n",
        "\n",
        "$\\log()$ is a concave function. Use Jensen inequality:\n",
        "$$\n",
        "\\log p_\\theta(\\mathbf{x})\n",
        "= \\log \\mathbb{E}_{\\mathbf{z} \\sim q(\\mathbf{z})} \\left[ \\frac{p_\\theta(\\mathbf{x}, \\mathbf{z})}{q(\\mathbf{z})} \\right]\n",
        "\\ge \\mathbb{E}_{\\mathbf{z} \\sim q(\\mathbf{z})} \\left[ \\log \\frac{p_\\theta(\\mathbf{x}, \\mathbf{z})}{q(\\mathbf{z})} \\right]\n",
        "$$\n",
        "This is called Evidence Lower Bound (**ELBO**).\\\n",
        "The equality holds iff $q(\\mathbf{z}) = p(\\mathbf{z}|\\mathbf{x})$. This can be proved via Kullback-Leibler Divergence:\n",
        "$$\n",
        "D_{\\mathrm{KL}}(q(\\mathbf{z}) \\| p(\\mathbf{z} \\mid \\mathbf{x}))\n",
        "= \\sum_{\\mathbf{z}} q(\\mathbf{z}) \\log \\frac{q(\\mathbf{z})}{p(\\mathbf{z} \\mid \\mathbf{x})}\n",
        "= \\mathbb{E}_{\\mathbf{z} \\sim q(\\mathbf{z})} \\left[ \\log \\frac{q(\\mathbf{z})}{p(\\mathbf{z} \\mid \\mathbf{x})} \\right] \\ge 0\n",
        "$$\n",
        "The equality holds iff $q(\\mathbf{z}) = p(\\mathbf{z}|\\mathbf{x})$ because then $D_{\\mathrm{KL}}(q(\\mathbf{z}) \\| p(\\mathbf{z} \\mid \\mathbf{x}))\n",
        "= 0$.\n",
        "\n",
        "In general,\n",
        "\\begin{align}\n",
        "D_{\\text{KL}}(q(\\mathbf{z}) \\| p(\\mathbf{z} \\mid \\mathbf{x})) &= \\sum_{\\mathbf{z}} q(\\mathbf{z}) \\log \\frac{q(\\mathbf{z})}{p_θ(\\mathbf{z} \\mid \\mathbf{x})} \\ge 0 \\\\\n",
        "&= \\sum_{\\mathbf{z}} q(\\mathbf{z}) \\log \\frac{q(\\mathbf{z})}{p_\\theta(\\mathbf{x},\\mathbf{z}) / p_\\theta(\\mathbf{x})} \\\\\n",
        "&= \\sum_{\\mathbf{z}} q(\\mathbf{z}) \\log \\frac{q(\\mathbf{z}) p_\\theta(\\mathbf{x})}{p_\\theta(\\mathbf{x},\\mathbf{z})} \\\\\n",
        "&= \\sum_{\\mathbf{z}} q(\\mathbf{z}) \\log \\frac{q(\\mathbf{z})}{p_\\theta(\\mathbf{x},\\mathbf{z})} + \\log p_\\theta(\\mathbf{x}) \\\\\n",
        "\\Rightarrow \\log p_\\theta(\\mathbf{x}) &= \\sum_{\\mathbf{z}} q(\\mathbf{z}) \\log \\frac{p_\\theta(\\mathbf{x},\\mathbf{z})}{q(\\mathbf{z})} + D_{\\text{KL}}(q(\\mathbf{z}) \\| p(\\mathbf{z} \\mid \\mathbf{x})) \\\\\n",
        "&= \\text{ELBO} + D_{\\text{KL}}(q(\\mathbf{z}) \\| p(\\mathbf{z} \\mid \\mathbf{x}))\n",
        "\\end{align}\n",
        "\n",
        "\n",
        "Another problem we have to face is that the posterior $p(\\mathbf{z}|\\mathbf{x})$ is likely intractable. The proposed solution is to approximate this distribution via the encoder network with a tractable probability distribution $q$ with parameters $ϕ$ (variational parameters).\n",
        "\n",
        "Here comes the idea of variational inference: Pick $ϕ$ so that $q(\\mathbf{z};ϕ)$ is as close as possible to the true posterior $p(\\mathbf{z}|\\mathbf{x};θ)$, which is the core idea of the encoder.\n",
        "\n",
        "Another interpretation of $\\log p_\\theta(\\mathbf{x})$:\n",
        "$$\n",
        "\\log p_\\theta(x) = \\sum_z q(z) \\log \\frac{p_\\theta(x,z)}{q(z)} + D_{\\rm KL}\\big(q(z)\\|p_\\theta(z|x)\\big) \\\\\n",
        "= \\sum_z q(z) \\log p_\\theta(x|z) + \\sum_z q(z) \\log \\frac{p(z)}{q(z)} + D_{\\rm KL}\\big(q(z)\\|p_\\theta(z|x)\\big) \\\\\n",
        "= \\mathbb{E}_{z \\sim q(z|x)}[\\log p_\\theta(x|z)] - D_{\\rm KL}(q(z|x)\\|p(z)) + D_{\\rm KL}(q(z|x)\\|p_\\theta(z|x))\\\\\n",
        "≤ \\mathbb{E}_{z \\sim q(z|x)}[\\log p_\\theta(x|z)] - D_{\\rm KL}(q(z|x)\\|p(z))\n",
        "$$\n",
        "where:\n",
        "\n",
        "\n",
        "*   $\\mathbb{E}_{z \\sim q(z|x)}[\\log p_\\theta(x|z)]$ is the reconstruction term. $q_ϕ(\\mathbf{z}|\\mathbf{x})$ is the ecoder, $p_θ(\\mathbf{x}|\\mathbf{z})$ is the decoder. This term, therefore, measures how well the decoder can reconstruct $x$ from a latent representation $z$ that was encoded by the encoder. Maximizing this term is equivalent to minimizing a \"reconstruction loss,\" such as Mean Squared Error (MSE) for image data or Binary Cross-Entropy for binary data.\n",
        "*   KL-Divergence forces the distributions $q_ϕ(\\mathbf{z}|\\mathbf{x})$ stays close to the prior distribution $p(\\mathbf{z})$, which is chosen to be standard Gaussian in this project."
      ],
      "metadata": {
        "id": "mn03xr4I8maW"
      }
    },
    {
      "cell_type": "markdown",
      "source": [
        "**Reparameterization Trick**\n",
        "\n",
        "A technical challenge arises: how do we backpropagate gradients through the random sampling step $z$? This step is stochastic and non-differentiable.\n",
        "\n",
        "One solution is instead of sampling $z$ from:\n",
        "$$\n",
        "z \\sim \\mathcal{N}(μ,σ^2)\n",
        "$$\n",
        "We have:\n",
        "$$\n",
        "z = μ + σϵ\n",
        "$$\n",
        "where $ϵ$ is a noise variable distributed from $\\mathcal{N}(0;I)$"
      ],
      "metadata": {
        "id": "-lLjgLtuPkuP"
      }
    },
    {
      "cell_type": "markdown",
      "source": [
        "To summarize, here is the workflow of VAE model:\n",
        "\n",
        "\n",
        "1.   Input Image: The model starts with an input data point, such as an image.\n",
        "2.   Encoder: The input image $x$ is passed through the encoder network. The encoder outputs the parameters of a probability distribution—typically the mean (μ) and standard deviation σ that define a Gaussian distribution in the latent space.\n",
        "3.   Reparameterization & Sampling: A latent vector z is sampled from the distribution defined by μ and σ using the reparameterization trick.\n",
        "4.   Decoder: The sampled latent vector z is then fed into the decoder network.\n",
        "5.   Output Image: The decoder reconstructs the data from the latent vector z, producing an output image x' that should resemble the original input image.\n",
        "\n",
        "\n",
        "The training process of a VAE is a balance between these two objectives: maximizing the reconstruction term and minimizing the KL Divergence.\n"
      ],
      "metadata": {
        "id": "dWB8fGqeQ1ZZ"
      }
    },
    {
      "cell_type": "code",
      "source": [
        "class VAE(nn.Module):\n",
        "    def __init__(self, input_dim, hidden_dim, latent_dim):\n",
        "        super().__init__()\n",
        "\n",
        "        self.input_dim = input_dim\n",
        "        self.hidden_dim = hidden_dim\n",
        "        self.latent_dim = latent_dim\n",
        "\n",
        "        # encoder\n",
        "        self.img2hid = nn.Linear(input_dim, hidden_dim)\n",
        "        self.hid2mu = nn.Linear(hidden_dim, latent_dim)\n",
        "        self.hid2sigma = nn.Linear(hidden_dim, latent_dim)\n",
        "\n",
        "        # decoder\n",
        "        self.latent2hid = nn.Linear(latent_dim, hidden_dim)\n",
        "        self.hid2img = nn.Linear(hidden_dim, input_dim)\n",
        "\n",
        "        self.relu = nn.ReLU()\n",
        "\n",
        "\n",
        "    def encoder(self, x):\n",
        "        ''' q_phi(z|x) '''\n",
        "        h = self.relu(self.img2hid(x))\n",
        "        mu, sigma = self.hid2mu(h), self.hid2sigma(h)\n",
        "        return mu, sigma\n",
        "\n",
        "\n",
        "    def decoder(self, z):\n",
        "        ''' p_theta(x|z) '''\n",
        "        h = self.relu(self.latent2hid(z))\n",
        "        x = self.hid2img(h)\n",
        "        return torch.sigmoid(x) # ensure the output be between 0 and 1\n",
        "\n",
        "    def forward(self, x):\n",
        "        # Explicitly flatten the input before passing to encoder\n",
        "        x = x.view(x.size(0), -1)\n",
        "        mu, sigma = self.encoder(x)\n",
        "        z_reparameterized = mu + sigma * torch.randn_like(sigma) # cùng shape với sigma\n",
        "        x_recon = self.decoder(z_reparameterized)\n",
        "        return x_recon, mu, sigma\n",
        "\n",
        "    def loss_fn(self,x):\n",
        "        x_recon, mu, sigma = self(x)\n",
        "        # Flatten the original input for loss calculation\n",
        "        x = x.view(-1, self.input_dim)\n",
        "        reconstruction_loss = nn.BCELoss(reduction='sum')(x_recon, x)\n",
        "        kl_divergence = -0.5 * torch.sum(1 + torch.log(sigma.pow(2)) - mu.pow(2) - sigma.pow(2))\n",
        "        return reconstruction_loss + kl_divergence\n",
        "\n",
        "    @torch.no_grad()\n",
        "    def sample(self, num_samples, device):\n",
        "        z = torch.randn(num_samples, self.latent_dim).to(device)\n",
        "        samples = self.decoder(z)\n",
        "        return samples"
      ],
      "metadata": {
        "id": "5llW-Y6ojNdB"
      },
      "execution_count": null,
      "outputs": []
    },
    {
      "cell_type": "markdown",
      "source": [
        "# Train model"
      ],
      "metadata": {
        "id": "3YtN1m6c0oKJ"
      }
    },
    {
      "cell_type": "code",
      "source": [
        "def train(model, train_dataloader, optimizer, device):\n",
        "    model.to(device)\n",
        "    model.train()\n",
        "\n",
        "    for i, (X, y) in enumerate(train_dataloader):\n",
        "        X, y = X.to(device), y.to(device)\n",
        "        # Scale input image to be between 0 and 1 for BCELoss\n",
        "        X = (X + 1) / 2.0\n",
        "        optimizer.zero_grad()\n",
        "        pred = model(X)\n",
        "        loss = model.loss_fn(X)\n",
        "        loss.backward()\n",
        "        optimizer.step()"
      ],
      "metadata": {
        "id": "s6PQY4cB0q9j"
      },
      "execution_count": null,
      "outputs": []
    },
    {
      "cell_type": "code",
      "source": [
        "batch_size = 128\n",
        "input_dim = 28*28\n",
        "hidden_dim = 500\n",
        "latent_dim = 20\n",
        "device = torch.device('cuda' if torch.cuda.is_available() else 'cpu')\n",
        "\n",
        "train_loader = DataLoader(train_dataset, batch_size=32, shuffle=True)"
      ],
      "metadata": {
        "id": "B_13oOaS03ly"
      },
      "execution_count": null,
      "outputs": []
    },
    {
      "cell_type": "code",
      "source": [
        "# Hiển thị ảnh\n",
        "def imshow(img, title=None):\n",
        "    img = img / 2 + 0.5  # Bỏ chuẩn hóa\n",
        "    npimg = img.numpy()\n",
        "    plt.figure(figsize=(12, 4))  # Kích thước ảnh\n",
        "    plt.imshow(np.transpose(npimg, (1, 2, 0)))  # (C, H, W) → (H, W, C)\n",
        "    if title:\n",
        "        plt.title(title)\n",
        "    plt.axis('off')\n",
        "    plt.show()\n",
        "\n",
        "# Lấy một batch từ dataloader\n",
        "images, labels = next(iter(train_loader))\n",
        "\n",
        "# Ghép ảnh thành lưới rồi hiển thị\n",
        "imshow(torchvision.utils.make_grid(images))\n",
        "print(labels)"
      ],
      "metadata": {
        "colab": {
          "base_uri": "https://localhost:8080/",
          "height": 380
        },
        "id": "4toF9r5l6NOd",
        "outputId": "a1723654-6432-4358-9e01-e7535d161d15"
      },
      "execution_count": null,
      "outputs": [
        {
          "output_type": "display_data",
          "data": {
            "text/plain": [
              "<Figure size 1200x400 with 1 Axes>"
            ],
            "image/png": "[encoded data removed]"
          },
          "metadata": {}
        },
        {
          "output_type": "stream",
          "name": "stdout",
          "text": [
            "tensor([7, 5, 0, 6, 5, 1, 2, 5, 6, 3, 8, 5, 7, 7, 3, 8, 0, 7, 3, 6, 7, 5, 7, 2,\n",
            "        0, 9, 3, 7, 0, 3, 0, 9])\n"
          ]
        }
      ]
    },
    {
      "cell_type": "code",
      "source": [
        "model = VAE(input_dim, hidden_dim, latent_dim).to(device)"
      ],
      "metadata": {
        "id": "aa4BMwrw2J8W"
      },
      "execution_count": null,
      "outputs": []
    },
    {
      "cell_type": "code",
      "source": [
        "num_epochs = 50\n",
        "optimizer = optim.Adam(model.parameters(), lr=3e-4, weight_decay=1e-5)\n",
        "scheduler = torch.optim.lr_scheduler.CosineAnnealingLR(optimizer, T_max=num_epochs)\n",
        "for epoch in tqdm(range(num_epochs)):\n",
        "  print(f\"Training epoch {epoch+1}\")\n",
        "  train(model, train_loader, optimizer, device)\n",
        "  scheduler.step()\n"
      ],
      "metadata": {
        "colab": {
          "base_uri": "https://localhost:8080/"
        },
        "id": "HO39P8TB2gON",
        "outputId": "293d4b8e-abab-4a5b-ca26-438897f17c1c"
      },
      "execution_count": null,
      "outputs": [
        {
          "output_type": "stream",
          "name": "stderr",
          "text": [
            "\r  0%|          | 0/50 [00:00<?, ?it/s]"
          ]
        },
        {
          "output_type": "stream",
          "name": "stdout",
          "text": [
            "Training epoch 1\n"
          ]
        },
        {
          "output_type": "stream",
          "name": "stderr",
          "text": [
            "\r  2%|▏         | 1/50 [00:24<19:40, 24.10s/it]"
          ]
        },
        {
          "output_type": "stream",
          "name": "stdout",
          "text": [
            "Training epoch 2\n"
          ]
        },
        {
          "output_type": "stream",
          "name": "stderr",
          "text": [
            "\r  4%|▍         | 2/50 [00:42<16:31, 20.65s/it]"
          ]
        },
        {
          "output_type": "stream",
          "name": "stdout",
          "text": [
            "Training epoch 3\n"
          ]
        },
        {
          "output_type": "stream",
          "name": "stderr",
          "text": [
            "\r  6%|▌         | 3/50 [01:00<15:10, 19.38s/it]"
          ]
        },
        {
          "output_type": "stream",
          "name": "stdout",
          "text": [
            "Training epoch 4\n"
          ]
        },
        {
          "output_type": "stream",
          "name": "stderr",
          "text": [
            "\r  8%|▊         | 4/50 [01:18<14:34, 19.02s/it]"
          ]
        },
        {
          "output_type": "stream",
          "name": "stdout",
          "text": [
            "Training epoch 5\n"
          ]
        },
        {
          "output_type": "stream",
          "name": "stderr",
          "text": [
            "\r 10%|█         | 5/50 [01:36<13:53, 18.51s/it]"
          ]
        },
        {
          "output_type": "stream",
          "name": "stdout",
          "text": [
            "Training epoch 6\n"
          ]
        },
        {
          "output_type": "stream",
          "name": "stderr",
          "text": [
            "\r 12%|█▏        | 6/50 [01:55<13:43, 18.73s/it]"
          ]
        },
        {
          "output_type": "stream",
          "name": "stdout",
          "text": [
            "Training epoch 7\n"
          ]
        },
        {
          "output_type": "stream",
          "name": "stderr",
          "text": [
            "\r 14%|█▍        | 7/50 [02:13<13:10, 18.39s/it]"
          ]
        },
        {
          "output_type": "stream",
          "name": "stdout",
          "text": [
            "Training epoch 8\n"
          ]
        },
        {
          "output_type": "stream",
          "name": "stderr",
          "text": [
            "\r 16%|█▌        | 8/50 [02:31<12:47, 18.28s/it]"
          ]
        },
        {
          "output_type": "stream",
          "name": "stdout",
          "text": [
            "Training epoch 9\n"
          ]
        },
        {
          "output_type": "stream",
          "name": "stderr",
          "text": [
            "\r 18%|█▊        | 9/50 [02:48<12:17, 17.98s/it]"
          ]
        },
        {
          "output_type": "stream",
          "name": "stdout",
          "text": [
            "Training epoch 10\n"
          ]
        },
        {
          "output_type": "stream",
          "name": "stderr",
          "text": [
            "\r 20%|██        | 10/50 [03:05<11:52, 17.81s/it]"
          ]
        },
        {
          "output_type": "stream",
          "name": "stdout",
          "text": [
            "Training epoch 11\n"
          ]
        },
        {
          "output_type": "stream",
          "name": "stderr",
          "text": [
            "\r 22%|██▏       | 11/50 [03:23<11:33, 17.77s/it]"
          ]
        },
        {
          "output_type": "stream",
          "name": "stdout",
          "text": [
            "Training epoch 12\n"
          ]
        },
        {
          "output_type": "stream",
          "name": "stderr",
          "text": [
            "\r 24%|██▍       | 12/50 [03:40<11:08, 17.59s/it]"
          ]
        },
        {
          "output_type": "stream",
          "name": "stdout",
          "text": [
            "Training epoch 13\n"
          ]
        },
        {
          "output_type": "stream",
          "name": "stderr",
          "text": [
            "\r 26%|██▌       | 13/50 [03:58<10:56, 17.75s/it]"
          ]
        },
        {
          "output_type": "stream",
          "name": "stdout",
          "text": [
            "Training epoch 14\n"
          ]
        },
        {
          "output_type": "stream",
          "name": "stderr",
          "text": [
            "\r 28%|██▊       | 14/50 [04:16<10:35, 17.65s/it]"
          ]
        },
        {
          "output_type": "stream",
          "name": "stdout",
          "text": [
            "Training epoch 15\n"
          ]
        },
        {
          "output_type": "stream",
          "name": "stderr",
          "text": [
            "\r 30%|███       | 15/50 [04:34<10:23, 17.80s/it]"
          ]
        },
        {
          "output_type": "stream",
          "name": "stdout",
          "text": [
            "Training epoch 16\n"
          ]
        },
        {
          "output_type": "stream",
          "name": "stderr",
          "text": [
            "\r 32%|███▏      | 16/50 [04:51<10:02, 17.71s/it]"
          ]
        },
        {
          "output_type": "stream",
          "name": "stdout",
          "text": [
            "Training epoch 17\n"
          ]
        },
        {
          "output_type": "stream",
          "name": "stderr",
          "text": [
            "\r 34%|███▍      | 17/50 [05:09<09:46, 17.78s/it]"
          ]
        },
        {
          "output_type": "stream",
          "name": "stdout",
          "text": [
            "Training epoch 18\n"
          ]
        },
        {
          "output_type": "stream",
          "name": "stderr",
          "text": [
            "\r 36%|███▌      | 18/50 [05:27<09:25, 17.66s/it]"
          ]
        },
        {
          "output_type": "stream",
          "name": "stdout",
          "text": [
            "Training epoch 19\n"
          ]
        },
        {
          "output_type": "stream",
          "name": "stderr",
          "text": [
            "\r 38%|███▊      | 19/50 [05:45<09:15, 17.91s/it]"
          ]
        },
        {
          "output_type": "stream",
          "name": "stdout",
          "text": [
            "Training epoch 20\n"
          ]
        },
        {
          "output_type": "stream",
          "name": "stderr",
          "text": [
            "\r 40%|████      | 20/50 [06:03<08:55, 17.86s/it]"
          ]
        },
        {
          "output_type": "stream",
          "name": "stdout",
          "text": [
            "Training epoch 21\n"
          ]
        },
        {
          "output_type": "stream",
          "name": "stderr",
          "text": [
            "\r 42%|████▏     | 21/50 [06:21<08:41, 17.99s/it]"
          ]
        },
        {
          "output_type": "stream",
          "name": "stdout",
          "text": [
            "Training epoch 22\n"
          ]
        },
        {
          "output_type": "stream",
          "name": "stderr",
          "text": [
            "\r 44%|████▍     | 22/50 [06:39<08:23, 17.97s/it]"
          ]
        },
        {
          "output_type": "stream",
          "name": "stdout",
          "text": [
            "Training epoch 23\n"
          ]
        },
        {
          "output_type": "stream",
          "name": "stderr",
          "text": [
            "\r 46%|████▌     | 23/50 [06:58<08:08, 18.09s/it]"
          ]
        },
        {
          "output_type": "stream",
          "name": "stdout",
          "text": [
            "Training epoch 24\n"
          ]
        },
        {
          "output_type": "stream",
          "name": "stderr",
          "text": [
            "\r 48%|████▊     | 24/50 [07:16<07:49, 18.06s/it]"
          ]
        },
        {
          "output_type": "stream",
          "name": "stdout",
          "text": [
            "Training epoch 25\n"
          ]
        },
        {
          "output_type": "stream",
          "name": "stderr",
          "text": [
            "\r 50%|█████     | 25/50 [07:34<07:35, 18.22s/it]"
          ]
        },
        {
          "output_type": "stream",
          "name": "stdout",
          "text": [
            "Training epoch 26\n"
          ]
        },
        {
          "output_type": "stream",
          "name": "stderr",
          "text": [
            "\r 52%|█████▏    | 26/50 [07:52<07:15, 18.16s/it]"
          ]
        },
        {
          "output_type": "stream",
          "name": "stdout",
          "text": [
            "Training epoch 27\n"
          ]
        },
        {
          "output_type": "stream",
          "name": "stderr",
          "text": [
            "\r 54%|█████▍    | 27/50 [08:11<06:59, 18.24s/it]"
          ]
        },
        {
          "output_type": "stream",
          "name": "stdout",
          "text": [
            "Training epoch 28\n"
          ]
        },
        {
          "output_type": "stream",
          "name": "stderr",
          "text": [
            "\r 56%|█████▌    | 28/50 [08:28<06:38, 18.10s/it]"
          ]
        },
        {
          "output_type": "stream",
          "name": "stdout",
          "text": [
            "Training epoch 29\n"
          ]
        },
        {
          "output_type": "stream",
          "name": "stderr",
          "text": [
            "\r 58%|█████▊    | 29/50 [08:47<06:22, 18.19s/it]"
          ]
        },
        {
          "output_type": "stream",
          "name": "stdout",
          "text": [
            "Training epoch 30\n"
          ]
        },
        {
          "output_type": "stream",
          "name": "stderr",
          "text": [
            "\r 60%|██████    | 30/50 [09:05<06:01, 18.07s/it]"
          ]
        },
        {
          "output_type": "stream",
          "name": "stdout",
          "text": [
            "Training epoch 31\n"
          ]
        },
        {
          "output_type": "stream",
          "name": "stderr",
          "text": [
            "\r 62%|██████▏   | 31/50 [09:23<05:45, 18.21s/it]"
          ]
        },
        {
          "output_type": "stream",
          "name": "stdout",
          "text": [
            "Training epoch 32\n"
          ]
        },
        {
          "output_type": "stream",
          "name": "stderr",
          "text": [
            "\r 64%|██████▍   | 32/50 [09:41<05:26, 18.13s/it]"
          ]
        },
        {
          "output_type": "stream",
          "name": "stdout",
          "text": [
            "Training epoch 33\n"
          ]
        },
        {
          "output_type": "stream",
          "name": "stderr",
          "text": [
            "\r 66%|██████▌   | 33/50 [10:00<05:10, 18.27s/it]"
          ]
        },
        {
          "output_type": "stream",
          "name": "stdout",
          "text": [
            "Training epoch 34\n"
          ]
        },
        {
          "output_type": "stream",
          "name": "stderr",
          "text": [
            "\r 68%|██████▊   | 34/50 [10:18<04:51, 18.20s/it]"
          ]
        },
        {
          "output_type": "stream",
          "name": "stdout",
          "text": [
            "Training epoch 35\n"
          ]
        },
        {
          "output_type": "stream",
          "name": "stderr",
          "text": [
            "\r 70%|███████   | 35/50 [10:36<04:34, 18.29s/it]"
          ]
        },
        {
          "output_type": "stream",
          "name": "stdout",
          "text": [
            "Training epoch 36\n"
          ]
        },
        {
          "output_type": "stream",
          "name": "stderr",
          "text": [
            "\r 72%|███████▏  | 36/50 [10:55<04:16, 18.32s/it]"
          ]
        },
        {
          "output_type": "stream",
          "name": "stdout",
          "text": [
            "Training epoch 37\n"
          ]
        },
        {
          "output_type": "stream",
          "name": "stderr",
          "text": [
            "\r 74%|███████▍  | 37/50 [11:13<03:58, 18.35s/it]"
          ]
        },
        {
          "output_type": "stream",
          "name": "stdout",
          "text": [
            "Training epoch 38\n"
          ]
        },
        {
          "output_type": "stream",
          "name": "stderr",
          "text": [
            "\r 76%|███████▌  | 38/50 [11:31<03:40, 18.35s/it]"
          ]
        },
        {
          "output_type": "stream",
          "name": "stdout",
          "text": [
            "Training epoch 39\n"
          ]
        },
        {
          "output_type": "stream",
          "name": "stderr",
          "text": [
            "\r 78%|███████▊  | 39/50 [11:49<03:20, 18.25s/it]"
          ]
        },
        {
          "output_type": "stream",
          "name": "stdout",
          "text": [
            "Training epoch 40\n"
          ]
        },
        {
          "output_type": "stream",
          "name": "stderr",
          "text": [
            "\r 80%|████████  | 40/50 [12:08<03:02, 18.23s/it]"
          ]
        },
        {
          "output_type": "stream",
          "name": "stdout",
          "text": [
            "Training epoch 41\n"
          ]
        },
        {
          "output_type": "stream",
          "name": "stderr",
          "text": [
            "\r 82%|████████▏ | 41/50 [12:25<02:42, 18.11s/it]"
          ]
        },
        {
          "output_type": "stream",
          "name": "stdout",
          "text": [
            "Training epoch 42\n"
          ]
        },
        {
          "output_type": "stream",
          "name": "stderr",
          "text": [
            "\r 84%|████████▍ | 42/50 [12:44<02:25, 18.23s/it]"
          ]
        },
        {
          "output_type": "stream",
          "name": "stdout",
          "text": [
            "Training epoch 43\n"
          ]
        },
        {
          "output_type": "stream",
          "name": "stderr",
          "text": [
            "\r 86%|████████▌ | 43/50 [13:02<02:06, 18.05s/it]"
          ]
        },
        {
          "output_type": "stream",
          "name": "stdout",
          "text": [
            "Training epoch 44\n"
          ]
        },
        {
          "output_type": "stream",
          "name": "stderr",
          "text": [
            "\r 88%|████████▊ | 44/50 [13:20<01:48, 18.12s/it]"
          ]
        },
        {
          "output_type": "stream",
          "name": "stdout",
          "text": [
            "Training epoch 45\n"
          ]
        },
        {
          "output_type": "stream",
          "name": "stderr",
          "text": [
            "\r 90%|█████████ | 45/50 [13:38<01:30, 18.03s/it]"
          ]
        },
        {
          "output_type": "stream",
          "name": "stdout",
          "text": [
            "Training epoch 46\n"
          ]
        },
        {
          "output_type": "stream",
          "name": "stderr",
          "text": [
            "\r 92%|█████████▏| 46/50 [13:56<01:12, 18.18s/it]"
          ]
        },
        {
          "output_type": "stream",
          "name": "stdout",
          "text": [
            "Training epoch 47\n"
          ]
        },
        {
          "output_type": "stream",
          "name": "stderr",
          "text": [
            "\r 94%|█████████▍| 47/50 [14:14<00:54, 18.03s/it]"
          ]
        },
        {
          "output_type": "stream",
          "name": "stdout",
          "text": [
            "Training epoch 48\n"
          ]
        },
        {
          "output_type": "stream",
          "name": "stderr",
          "text": [
            "\r 96%|█████████▌| 48/50 [14:32<00:36, 18.08s/it]"
          ]
        },
        {
          "output_type": "stream",
          "name": "stdout",
          "text": [
            "Training epoch 49\n"
          ]
        },
        {
          "output_type": "stream",
          "name": "stderr",
          "text": [
            "\r 98%|█████████▊| 49/50 [14:50<00:17, 17.93s/it]"
          ]
        },
        {
          "output_type": "stream",
          "name": "stdout",
          "text": [
            "Training epoch 50\n"
          ]
        },
        {
          "output_type": "stream",
          "name": "stderr",
          "text": [
            "100%|██████████| 50/50 [15:08<00:00, 18.17s/it]\n"
          ]
        }
      ]
    },
    {
      "cell_type": "code",
      "source": [
        "model.eval()\n",
        "x_recon = model.sample(64, device)\n",
        "imshow(torchvision.utils.make_grid(x_recon.view(64, 1, 28, 28).data.cpu()))"
      ],
      "metadata": {
        "colab": {
          "base_uri": "https://localhost:8080/",
          "height": 345
        },
        "id": "VOT2U--G7Foi",
        "outputId": "75081d08-cfd9-4dd4-c4f7-3ee27a0d76bf"
      },
      "execution_count": null,
      "outputs": [
        {
          "output_type": "display_data",
          "data": {
            "text/plain": [
              "<Figure size 1200x400 with 1 Axes>"
            ],
            "image/png": "[encoded data removed]"
          },
          "metadata": {}
        }
      ]
    }
  ]
}